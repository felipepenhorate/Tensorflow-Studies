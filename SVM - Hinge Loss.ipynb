{
 "cells": [
  {
   "cell_type": "markdown",
   "metadata": {},
   "source": [
    "This implementation is a Tensorflow 2.0 variation of the following tutorial https://towardsdatascience.com/svm-implementation-from-scratch-python-2db2fc52e5c2"
   ]
  },
  {
   "cell_type": "code",
   "execution_count": null,
   "metadata": {},
   "outputs": [],
   "source": [
    "import tensorflow as tf\n",
    "from tqdm import tqdm"
   ]
  },
  {
   "cell_type": "code",
   "execution_count": null,
   "metadata": {},
   "outputs": [],
   "source": [
    "from tensorflow.python.client import device_lib\n",
    "print(device_lib.list_local_devices())"
   ]
  },
  {
   "cell_type": "code",
   "execution_count": null,
   "metadata": {},
   "outputs": [],
   "source": [
    "import numpy as np\n",
    "import random\n",
    "import matplotlib.pyplot as plt\n",
    "%matplotlib inline\n",
    "\n",
    "# prepare a dataset.\n",
    "num_samples = 10000\n",
    "negative_samples = np.random.multivariate_normal(\n",
    "    mean=[0, 3], cov=[[1, 0.5],[0.5, 1]], size=num_samples)\n",
    "positive_samples = np.random.multivariate_normal(\n",
    "    mean=[3, 0], cov=[[1, 0.5],[0.5, 1]], size=num_samples)\n",
    "features = np.vstack((negative_samples, positive_samples)).astype(np.float32)\n",
    "labels = np.vstack((-1*np.ones((num_samples, 1), dtype='float32'),\n",
    "                    np.ones((num_samples, 1), dtype='float32')))\n",
    "\n",
    "plt.scatter(features[:, 0], features[:, 1], c=labels[:, 0])\n"
   ]
  },
  {
   "attachments": {
    "Loss%20da%20SVM%20%28com%20hinge%29.png": {
     "image/png": "[encoded data removed]"
    }
   },
   "cell_type": "markdown",
   "metadata": {},
   "source": [
    "The loss function adopted in this project is the following:\n",
    "\n",
    "![Loss%20da%20SVM%20%28com%20hinge%29.png](attachment:Loss%20da%20SVM%20%28com%20hinge%29.png)"
   ]
  },
  {
   "cell_type": "code",
   "execution_count": null,
   "metadata": {},
   "outputs": [],
   "source": [
    "input_dim = features.shape[1]\n",
    "output_dim = 1\n",
    "learning_rate = 0.01\n",
    "reg_strength = 1\n",
    "\n",
    "tf.random.set_seed(42)\n",
    "# This is our weight matrix\n",
    "w = tf.Variable(tf.random.uniform(shape=(input_dim, output_dim)))\n",
    "# This is our bias vector\n",
    "b = tf.Variable(tf.zeros(shape=(output_dim,)))\n",
    "\n",
    "def predict(x):\n",
    "    return tf.sign(tf.tensordot(x,w, 1) + b) \n",
    "\n",
    "def compute_cost(x, y, b):\n",
    "    # computing hinge loss\n",
    "    N = x.shape[0]\n",
    "    distances = 1 - y * (tf.tensordot(x, w, 1) + b) # \n",
    "    \n",
    "    distances = tf.where(distances > 0, distances, 0)  # making the max between our distance and zero\n",
    "    hinge_loss = reg_strength * (tf.reduce_sum(distances) / N) # updating the loss using the computed loss function\n",
    "    \n",
    "    # calculate the final cost\n",
    "    cost = (1 / 2) * tf.square(w) + hinge_loss\n",
    "    return tf.reduce_mean(cost)\n",
    "\n",
    "@tf.function\n",
    "def fit(x, y):\n",
    "    with tf.GradientTape() as tape:\n",
    "        loss = compute_cost(x, y, b)\n",
    "        # We don't need to actually compute the derivative, the tensorflow does that for us!\n",
    "        dloss_dw, dloss_db = tape.gradient(loss, [w, b]) \n",
    "    w.assign_sub(learning_rate * dloss_dw)\n",
    "    b.assign_sub(learning_rate * dloss_db)\n",
    "    return loss"
   ]
  },
  {
   "cell_type": "code",
   "execution_count": null,
   "metadata": {},
   "outputs": [],
   "source": [
    "# shuffle the data.\n",
    "indices = np.random.permutation(len(features))\n",
    "features = features[indices]\n",
    "labels = labels[indices]\n",
    "\n",
    "# create a tf.data.Dataset object for easy batched iteration\n",
    "dataset = tf.data.Dataset.from_tensor_slices((features, labels))\n",
    "dataset = dataset.shuffle(buffer_size=1024).batch(256)\n",
    "\n",
    "losses = []\n",
    "for epoch in tqdm(range(10)):\n",
    "    epoch_losses = []\n",
    "    for step, (x, y) in enumerate(dataset):\n",
    "        loss = fit(x, y)\n",
    "        epoch_losses.append(loss)\n",
    "    losses.append(np.mean(epoch_losses))"
   ]
  },
  {
   "cell_type": "code",
   "execution_count": null,
   "metadata": {},
   "outputs": [],
   "source": [
    "plt.plot(range(len(losses)), losses)\n",
    "plt.xlabel('Épocas')\n",
    "plt.ylabel('Loss')\n",
    "plt.show()"
   ]
  },
  {
   "cell_type": "code",
   "execution_count": null,
   "metadata": {},
   "outputs": [],
   "source": [
    "from sklearn.metrics import accuracy_score\n",
    "y_pred = predict(features)"
   ]
  },
  {
   "cell_type": "code",
   "execution_count": null,
   "metadata": {},
   "outputs": [],
   "source": [
    "accuracy_score(labels, y_pred)"
   ]
  },
  {
   "cell_type": "code",
   "execution_count": null,
   "metadata": {},
   "outputs": [],
   "source": []
  },
  {
   "cell_type": "code",
   "execution_count": null,
   "metadata": {},
   "outputs": [],
   "source": []
  }
 ],
 "metadata": {
  "kernelspec": {
   "display_name": "Python 3",
   "language": "python",
   "name": "python3"
  },
  "language_info": {
   "codemirror_mode": {
    "name": "ipython",
    "version": 3
   },
   "file_extension": ".py",
   "mimetype": "text/x-python",
   "name": "python",
   "nbconvert_exporter": "python",
   "pygments_lexer": "ipython3",
   "version": "3.7.5"
  }
 },
 "nbformat": 4,
 "nbformat_minor": 4
}
