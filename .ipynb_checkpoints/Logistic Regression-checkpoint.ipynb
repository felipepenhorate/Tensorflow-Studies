{
 "cells": [
  {
   "cell_type": "markdown",
   "metadata": {},
   "source": [
    "This implementation is a Tensorflow 2.0 variation of the following tutorial https://medium.com/@martinpella/logistic-regression-from-scratch-in-python-124c5636b8ac"
   ]
  },
  {
   "cell_type": "code",
   "execution_count": 1,
   "metadata": {},
   "outputs": [],
   "source": [
    "import tensorflow as tf\n",
    "from tqdm import tqdm\n",
    "physical_devices = tf.config.list_physical_devices('GPU') \n",
    "tf.config.experimental.set_memory_growth(physical_devices[0], True)"
   ]
  },
  {
   "cell_type": "code",
   "execution_count": 2,
   "metadata": {},
   "outputs": [],
   "source": [
    "import numpy as np\n",
    "import random\n",
    "import matplotlib.pyplot as plt\n",
    "%matplotlib inline"
   ]
  },
  {
   "cell_type": "code",
   "execution_count": 3,
   "metadata": {},
   "outputs": [],
   "source": [
    "from sklearn.datasets import load_iris\n",
    "\n",
    "iris = load_iris()\n",
    "features = iris.data[:, :2]\n",
    "labels = (iris.target != 0) * 1\n",
    "features = np.array(features,dtype='float32')\n",
    "labels = np.array(labels,dtype='float32')"
   ]
  },
  {
   "cell_type": "code",
   "execution_count": 4,
   "metadata": {},
   "outputs": [],
   "source": [
    "input_dim = features.shape[1]\n",
    "\n",
    "learning_rate = 0.1\n",
    "\n",
    "tf.random.set_seed(42)\n",
    "# This is our weight matrix\n",
    "w = tf.Variable(tf.zeros(shape=(input_dim, )))\n",
    "\n",
    "def predict_probs(x):\n",
    "    return sigmoid(tf.tensordot(x,w, 1))\n",
    "\n",
    "def predict(X, threshold=0.5):\n",
    "    return tf.where(predict_probs(X) >= threshold, 1, 0)\n",
    "    #return predict_probs(X) >= threshold\n",
    "\n",
    "def sigmoid(x):\n",
    "    return 1 / (1 + tf.math.exp(-x)) # computing the sigmoid value of x\n",
    "\n",
    "def compute_cost(x, y):\n",
    "    # computing the loss function\n",
    "    h_z = predict_probs(x)\n",
    "    cost = -y * tf.math.log(h_z) - (1 - y) * tf.math.log(1 - h_z) # computing the cost function\n",
    "    return tf.reduce_mean(cost)\n",
    "\n",
    "@tf.function\n",
    "def fit(x, y):\n",
    "    with tf.GradientTape() as tape:\n",
    "        loss = compute_cost(x, y)\n",
    "        # We don't need to actually compute the derivative, the tensorflow does that for us!\n",
    "        dloss_dw = tape.gradient(loss, w)\n",
    "    w.assign_sub(learning_rate * dloss_dw)\n",
    "    return loss"
   ]
  },
  {
   "cell_type": "code",
   "execution_count": 5,
   "metadata": {},
   "outputs": [
    {
     "name": "stderr",
     "output_type": "stream",
     "text": [
      "100%|█████████████████████████████████████████████████████████████████████████████| 1000/1000 [00:05<00:00, 177.38it/s]\n"
     ]
    }
   ],
   "source": [
    "# shuffle the data.\n",
    "indices = np.random.permutation(len(features))\n",
    "features = features[indices]\n",
    "labels = labels[indices]\n",
    "\n",
    "# create a tf.data.Dataset object for easy batched iteration\n",
    "dataset = tf.data.Dataset.from_tensor_slices((features, labels))\n",
    "dataset = dataset.shuffle(buffer_size=1024).batch(256)\n",
    "\n",
    "losses = []\n",
    "for epoch in tqdm(range(1000)):\n",
    "    epoch_losses = []\n",
    "    for step, (x, y) in enumerate(dataset):\n",
    "        loss = fit(x, y)\n",
    "        epoch_losses.append(loss)\n",
    "    losses.append(np.mean(epoch_losses))"
   ]
  },
  {
   "cell_type": "code",
   "execution_count": 6,
   "metadata": {},
   "outputs": [
    {
     "data": {
      "image/png": "[encoded data removed]",
      "text/plain": [
       "<Figure size 432x288 with 1 Axes>"
      ]
     },
     "metadata": {
      "needs_background": "light"
     },
     "output_type": "display_data"
    }
   ],
   "source": [
    "plt.plot(range(len(losses)), losses)\n",
    "plt.xlabel('Épocas')\n",
    "plt.ylabel('Loss')\n",
    "plt.show()"
   ]
  },
  {
   "cell_type": "code",
   "execution_count": 7,
   "metadata": {},
   "outputs": [],
   "source": [
    "from sklearn.metrics import accuracy_score\n",
    "y_pred = predict(features, 0.5)"
   ]
  },
  {
   "cell_type": "code",
   "execution_count": 8,
   "metadata": {},
   "outputs": [
    {
     "data": {
      "text/plain": [
       "0.9933333333333333"
      ]
     },
     "execution_count": 8,
     "metadata": {},
     "output_type": "execute_result"
    }
   ],
   "source": [
    "accuracy_score(labels, y_pred)"
   ]
  },
  {
   "cell_type": "code",
   "execution_count": null,
   "metadata": {},
   "outputs": [],
   "source": []
  }
 ],
 "metadata": {
  "kernelspec": {
   "display_name": "Python 3",
   "language": "python",
   "name": "python3"
  },
  "language_info": {
   "codemirror_mode": {
    "name": "ipython",
    "version": 3
   },
   "file_extension": ".py",
   "mimetype": "text/x-python",
   "name": "python",
   "nbconvert_exporter": "python",
   "pygments_lexer": "ipython3",
   "version": "3.7.5"
  }
 },
 "nbformat": 4,
 "nbformat_minor": 4
}
